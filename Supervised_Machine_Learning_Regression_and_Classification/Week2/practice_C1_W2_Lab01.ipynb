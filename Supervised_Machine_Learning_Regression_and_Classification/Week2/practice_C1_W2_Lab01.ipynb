{
 "cells": [
  {
   "cell_type": "code",
   "execution_count": 2,
   "metadata": {},
   "outputs": [],
   "source": [
    "import numpy as np \n",
    "import time"
   ]
  },
  {
   "cell_type": "markdown",
   "metadata": {},
   "source": []
  },
  {
   "cell_type": "code",
   "execution_count": 3,
   "metadata": {},
   "outputs": [
    {
     "name": "stdout",
     "output_type": "stream",
     "text": [
      "np.zeros(4):\n",
      "a=[0. 0. 0. 0.], a shape=(4,), a data type=float64\n",
      "np.zeros((4,)):\n",
      "a=[0. 0. 0. 0.], a shape=(4,), a data type=float64\n",
      "np.zeros((4,1)):\n",
      "a=[[0.]\n",
      " [0.]\n",
      " [0.]\n",
      " [0.]], a shape=(4, 1), a data type=float64\n",
      "np.random.random_sample(4):\n",
      "a=[0.97186767 0.15609525 0.43320263 0.38273281], a shape=(4,), a data type=float64\n"
     ]
    }
   ],
   "source": [
    "a = np.zeros(4)\n",
    "print(f\"np.zeros(4):\\na={a}, a shape={a.shape}, a data type={a.dtype}\")\n",
    "a = np.zeros((4,))\n",
    "print(f\"np.zeros((4,)):\\na={a}, a shape={a.shape}, a data type={a.dtype}\")\n",
    "a = np.zeros((4,1))\n",
    "print(f\"np.zeros((4,1)):\\na={a}, a shape={a.shape}, a data type={a.dtype}\")\n",
    "\n",
    "a = np.random.random_sample(4)\n",
    "print(f\"np.random.random_sample(4):\\na={a}, a shape={a.shape}, a data type={a.dtype}\")\n"
   ]
  },
  {
   "cell_type": "code",
   "execution_count": 4,
   "metadata": {},
   "outputs": [
    {
     "name": "stdout",
     "output_type": "stream",
     "text": [
      "np.arange(4.0):\n",
      "a = [0. 1. 2. 3.], a shape = (4,), a data type = float64\n",
      "np.arange(0, 4.0, 1):\n",
      "a = [0. 1. 2. 3.], a shape = (4,), a data type = float64\n",
      "np.arange(3.9):\n",
      "a = [0. 1. 2. 3.], a shape = (4,), a data type = float64\n",
      "np.random.rand(4):\n",
      "a = [0.78889344 0.00277087 0.63549311 0.73556171], a shape = (4,), a data type = float64\n"
     ]
    }
   ],
   "source": [
    "# [start, stop,step)\n",
    "a = np.arange(4.0)\n",
    "print(f\"np.arange(4.0):\\na = {a}, a shape = {a.shape}, a data type = {a.dtype}\")\n",
    "\n",
    "a = np.arange(0, 4.0, 1)\n",
    "print(f\"np.arange(0, 4.0, 1):\\na = {a}, a shape = {a.shape}, a data type = {a.dtype}\")\n",
    "\n",
    "a = np.arange(3.9)\n",
    "print(f\"np.arange(3.9):\\na = {a}, a shape = {a.shape}, a data type = {a.dtype}\")\n",
    "\n",
    "a = np.random.rand(4)\n",
    "print(f\"np.random.rand(4):\\na = {a}, a shape = {a.shape}, a data type = {a.dtype}\")\n"
   ]
  },
  {
   "cell_type": "code",
   "execution_count": 5,
   "metadata": {},
   "outputs": [
    {
     "name": "stdout",
     "output_type": "stream",
     "text": [
      "np.array([5,4,3,2]):\n",
      "a = [5 4 3 2], a shape = (4,), a data type = int64\n",
      "np.array([5.,4,3,2]):\n",
      "a = [5. 4. 3. 2.], a shape = (4,), a data type = float64\n"
     ]
    }
   ],
   "source": [
    "a = np.array([5,4,3,2])\n",
    "print(f\"np.array([5,4,3,2]):\\na = {a}, a shape = {a.shape}, a data type = {a.dtype}\")\n",
    "\n",
    "a = np.array([5.,4,3,2])\n",
    "print(f\"np.array([5.,4,3,2]):\\na = {a}, a shape = {a.shape}, a data type = {a.dtype}\")\n"
   ]
  },
  {
   "cell_type": "markdown",
   "metadata": {},
   "source": [
    "## 3.4 Operations on Vectors\n",
    "\n",
    "\n",
    "### 3.4.1 Indexing"
   ]
  },
  {
   "cell_type": "code",
   "execution_count": 6,
   "metadata": {},
   "outputs": [
    {
     "name": "stdout",
     "output_type": "stream",
     "text": [
      "[0 1 2 3 4 5 6 7 8 9]\n",
      "a[2].shape: () a[2] = 2, Accessing an element returns a scalar\n",
      "a[-1] = 9\n",
      "The error message you'll see is:\n",
      "index 10 is out of bounds for axis 0 with size 10\n"
     ]
    }
   ],
   "source": [
    "a = np.arange(10)\n",
    "print(a)\n",
    "\n",
    "print(f\"a[2].shape: {a[2].shape} a[2] = {a[2]}, Accessing an element returns a scalar\")\n",
    "\n",
    "print(f\"a[-1] = {a[-1]}\")\n",
    "\n",
    "try:\n",
    "    c = a[10]\n",
    "except Exception as e:\n",
    "    print(\"The error message you'll see is:\")\n",
    "    print(e)"
   ]
  },
  {
   "cell_type": "markdown",
   "metadata": {},
   "source": [
    "### 3.4.2 Slicing"
   ]
  },
  {
   "cell_type": "code",
   "execution_count": 7,
   "metadata": {},
   "outputs": [
    {
     "name": "stdout",
     "output_type": "stream",
     "text": [
      "a       = [0 1 2 3 4 5 6 7 8 9]\n",
      "a[2:7:1] = [2 3 4 5 6]\n",
      "a[2:7:2] = [2 4 6]\n",
      "a[3:] = [3 4 5 6 7 8 9]\n",
      "a[:3] = [0 1 2]\n",
      "a[:] = [0 1 2 3 4 5 6 7 8 9]\n"
     ]
    }
   ],
   "source": [
    "a = np.arange(10)\n",
    "\n",
    "print(f\"a       = {a}\")\n",
    "\n",
    "c = a[2:7:1];       print(f\"a[2:7:1] = {c}\")\n",
    "c = a[2:7:2];       print(f\"a[2:7:2] = {c}\")\n",
    "c = a[3:];          print(f\"a[3:] = {c}\")\n",
    "c = a[:3];          print(f\"a[:3] = {c}\")\n",
    "c = a[:];          print(f\"a[:] = {c}\")\n"
   ]
  },
  {
   "cell_type": "markdown",
   "metadata": {},
   "source": [
    "###  3.4.3 Single vector operations"
   ]
  },
  {
   "cell_type": "code",
   "execution_count": 8,
   "metadata": {},
   "outputs": [
    {
     "name": "stdout",
     "output_type": "stream",
     "text": [
      "a:[1 2 3 4]\n",
      "-a:[-1 -2 -3 -4]\n",
      "np.sum(a):10\n",
      "np.mean(a):2.5\n",
      "a**2:[ 1  4  9 16]\n"
     ]
    }
   ],
   "source": [
    "a = np.array([1,2,3,4]);        print(f\"a:{a}\")\n",
    "\n",
    "b = -a;                         print(f\"-a:{b}\")\n",
    "\n",
    "b = np.sum(a);                  print(f\"np.sum(a):{b}\")\n",
    "\n",
    "b = np.mean(a);                 print(f\"np.mean(a):{b}\")\n",
    "\n",
    "b = a**2;                       print(f\"a**2:{b}\")\n"
   ]
  },
  {
   "cell_type": "markdown",
   "metadata": {},
   "source": [
    "### 3.4.4 Vector Vector element-wise operations\n",
    "\n",
    "\n",
    "$c_i = a_i + b_i$"
   ]
  },
  {
   "cell_type": "code",
   "execution_count": 9,
   "metadata": {},
   "outputs": [
    {
     "name": "stdout",
     "output_type": "stream",
     "text": [
      "Binary operators work element wise: [0 0 0 0]\n"
     ]
    }
   ],
   "source": [
    "a = np.array([1,2,3,4])\n",
    "b = np.array([-1,-2,-3,-4])\n",
    "\n",
    "print(f\"Binary operators work element wise: {a+b}\")"
   ]
  },
  {
   "cell_type": "code",
   "execution_count": 10,
   "metadata": {},
   "outputs": [
    {
     "name": "stdout",
     "output_type": "stream",
     "text": [
      "The error message you will see is :operands could not be broadcast together with shapes (4,) (2,) \n"
     ]
    }
   ],
   "source": [
    "c = np.array([1,2])\n",
    "\n",
    "try: \n",
    "    d = a+c\n",
    "except Exception as e:\n",
    "    print(f\"The error message you will see is :{e}\")"
   ]
  },
  {
   "cell_type": "markdown",
   "metadata": {},
   "source": [
    "### 3.4.5 Scalar Vector operations"
   ]
  },
  {
   "cell_type": "code",
   "execution_count": 11,
   "metadata": {},
   "outputs": [
    {
     "name": "stdout",
     "output_type": "stream",
     "text": [
      "b = 5 * a: [ 5 10 15 20]\n"
     ]
    }
   ],
   "source": [
    "a = np.array([1,2,3,4])\n",
    "\n",
    "b = 5*a\n",
    "print(f\"b = 5 * a: {b}\")"
   ]
  },
  {
   "cell_type": "markdown",
   "metadata": {},
   "source": [
    "### 3.4.6 Vector Vector dot product\n",
    "\n",
    "dot product: $x = \\sum^{n-1}_{i=0} a_i b_i$\n",
    "\n",
    "Assume both $a$ and $b$ are the same shape."
   ]
  },
  {
   "cell_type": "code",
   "execution_count": 12,
   "metadata": {},
   "outputs": [],
   "source": [
    "def my_dot(a,b):\n",
    "    dot_prod = 0\n",
    "    for i in range(len(a)):\n",
    "        dot_prod += a[i]*b[i]\n",
    "    return dot_prod"
   ]
  },
  {
   "cell_type": "code",
   "execution_count": 13,
   "metadata": {},
   "outputs": [
    {
     "name": "stdout",
     "output_type": "stream",
     "text": [
      "my_dot(a, b) = 24\n"
     ]
    }
   ],
   "source": [
    "a = np.array([1, 2, 3, 4])\n",
    "b = np.array([-1, 4, 3, 2])\n",
    "print(f\"my_dot(a, b) = {my_dot(a, b)}\")"
   ]
  },
  {
   "cell_type": "code",
   "execution_count": 14,
   "metadata": {},
   "outputs": [
    {
     "name": "stdout",
     "output_type": "stream",
     "text": [
      "NumPy 1-D np.dot(a, b) = 24, np.dot(a, b).shape = () \n",
      "NumPy 1-D np.dot(b, a) = 24, np.dot(a, b).shape = () \n"
     ]
    }
   ],
   "source": [
    "a = np.array([1, 2, 3, 4])\n",
    "b = np.array([-1, 4, 3, 2])\n",
    "c = np.dot(a,b)\n",
    "# Note, the dot product is expected to return a scalar value. \n",
    "print(f\"NumPy 1-D np.dot(a, b) = {c}, np.dot(a, b).shape = {c.shape} \") \n",
    "c = np.dot(b,a)\n",
    "print(f\"NumPy 1-D np.dot(b, a) = {c}, np.dot(a, b).shape = {c.shape} \")\n"
   ]
  },
  {
   "cell_type": "markdown",
   "metadata": {},
   "source": [
    "### 3.4.7 The Need for Speed: vector vs for loop"
   ]
  },
  {
   "cell_type": "code",
   "execution_count": 15,
   "metadata": {},
   "outputs": [
    {
     "name": "stdout",
     "output_type": "stream",
     "text": [
      "np.dot(a, b) =  24.0000\n",
      "Vectorized version duration: 3.3197 ms \n"
     ]
    },
    {
     "name": "stdout",
     "output_type": "stream",
     "text": [
      "my_dot(a, b) =  24.0000\n",
      "Vectorized version duration: 2776.7825 ms \n"
     ]
    }
   ],
   "source": [
    "\n",
    "\n",
    "np.random.seed(1)\n",
    "a = np.random.rand(10000000)\n",
    "b = np.random.rand(10000000)\n",
    "\n",
    "def get_run_time(f):\n",
    "    tic = time.time()\n",
    "    c = f(a,b)\n",
    "    toc = time.time()\n",
    "    return 1000*(toc-tic)\n",
    "\n",
    "t = get_run_time(np.dot)\n",
    "\n",
    "print(f\"np.dot(a, b) =  {c:.4f}\")\n",
    "print(f\"Vectorized version duration: {t:.4f} ms \")\n",
    "\n",
    "t = get_run_time(my_dot)\n",
    "\n",
    "print(f\"my_dot(a, b) =  {c:.4f}\")\n",
    "print(f\"Vectorized version duration: {t:.4f} ms \")\n",
    "\n",
    "del(a);del(b)"
   ]
  },
  {
   "cell_type": "markdown",
   "metadata": {},
   "source": [
    "So, vectorization provides a large speed up in this example. This is because **NumPy makes better use of available data parallelism in the underlying hardware**. GPU's and modern CPU's implement Single Instruction, Multiple Data (SIMD) pipelines allowing multiple operations to be issued in parallel. This is critical in Machine Learning where the data sets are often very large."
   ]
  },
  {
   "cell_type": "markdown",
   "metadata": {},
   "source": [
    "### 3.4.8 Vector Vector operations in Course 1"
   ]
  },
  {
   "cell_type": "code",
   "execution_count": 16,
   "metadata": {},
   "outputs": [
    {
     "name": "stdout",
     "output_type": "stream",
     "text": [
      "X = [[1]\n",
      " [2]\n",
      " [3]\n",
      " [4]]\n",
      "c = 4\n",
      "X[1] has shape (1,)\n",
      "w has shape (1,)\n",
      "c has shape ()\n"
     ]
    }
   ],
   "source": [
    "X = np.array([[1],[2],[3],[4]])\n",
    "w = np.array([2])\n",
    "c = np.dot(X[1], w)\n",
    "\n",
    "print(f\"X = {X}\")\n",
    "print(f\"c = {c}\")\n",
    "\n",
    "print(f\"X[1] has shape {X[1].shape}\")\n",
    "print(f\"w has shape {w.shape}\")\n",
    "print(f\"c has shape {c.shape}\")"
   ]
  },
  {
   "cell_type": "markdown",
   "metadata": {},
   "source": [
    "# 4.Matrices\n",
    "\n",
    "## 4.1 Abstract\n",
    "\n",
    "## 4.2 NumPy Arrays\n",
    "\n",
    "In numpy, matrices have a two-dimensional (2-D) index [m,n].\n",
    "\n",
    "## 4.3 Matrix Creation"
   ]
  },
  {
   "cell_type": "code",
   "execution_count": 17,
   "metadata": {},
   "outputs": [
    {
     "name": "stdout",
     "output_type": "stream",
     "text": [
      "a shape = (1, 5), a = [[0. 0. 0. 0. 0.]]\n",
      "a shape = (2, 1), a = [[0.]\n",
      " [0.]]\n",
      "a shape = (1, 1), a = [[0.44236513]]\n",
      "a shape = (3, 2), a = [[0.04997798 0.77390955]\n",
      " [0.93782363 0.5792328 ]\n",
      " [0.53516563 0.80204309]]\n"
     ]
    }
   ],
   "source": [
    "a = np.zeros((1, 5))\n",
    "print(f\"a shape = {a.shape}, a = {a}\")\n",
    "\n",
    "a = np.zeros((2,1))\n",
    "print(f\"a shape = {a.shape}, a = {a}\")\n",
    "\n",
    "a = np.random.random_sample((1,1))\n",
    "print(f\"a shape = {a.shape}, a = {a}\")\n",
    "\n",
    "a = np.random.random_sample((3,2))\n",
    "print(f\"a shape = {a.shape}, a = {a}\")"
   ]
  },
  {
   "cell_type": "code",
   "execution_count": 18,
   "metadata": {},
   "outputs": [
    {
     "name": "stdout",
     "output_type": "stream",
     "text": [
      " a shape = (3, 1), np.array: a = [[5]\n",
      " [4]\n",
      " [3]]\n",
      " a shape = (3, 1), np.array: a = [[5]\n",
      " [4]\n",
      " [3]]\n"
     ]
    }
   ],
   "source": [
    "a = np.array([[5], [4], [3]]);      print(f\" a shape = {a.shape}, np.array: a = {a}\")\n",
    "a = np.array([[5],\n",
    "             [4],\n",
    "             [3]])\n",
    "print(f\" a shape = {a.shape}, np.array: a = {a}\")"
   ]
  },
  {
   "cell_type": "markdown",
   "metadata": {},
   "source": [
    "## 4.4 Operations on Matrices\n",
    "\n",
    "### 4.4.1 Indexing"
   ]
  },
  {
   "cell_type": "code",
   "execution_count": 19,
   "metadata": {},
   "outputs": [
    {
     "name": "stdout",
     "output_type": "stream",
     "text": [
      "a.shape = (3, 2), \n",
      "a = [[0 1]\n",
      " [2 3]\n",
      " [4 5]]\n",
      "\n",
      "a[2,0].shape = (), a[2,0] = 4, type(a[2,0]) = <class 'numpy.int64'>\n",
      "\n",
      "a[2].shape = (2,), a[2] = [4 5], type(a[2]) = <class 'numpy.ndarray'>\n"
     ]
    }
   ],
   "source": [
    "a = np.arange(6).reshape(-1,2) #reshape is a convenient way to create matrices\n",
    "print(f\"a.shape = {a.shape}, \\na = {a}\")\n",
    "\n",
    "print(f\"\\na[2,0].shape = {a[2,0].shape}, a[2,0] = {a[2,0]}, type(a[2,0]) = {type(a[2,0])}\")\n",
    "\n",
    "print(f\"\\na[2].shape = {a[2].shape}, a[2] = {a[2]}, type(a[2]) = {type(a[2])}\")\n"
   ]
  },
  {
   "cell_type": "markdown",
   "metadata": {},
   "source": [
    "Reshape"
   ]
  },
  {
   "cell_type": "code",
   "execution_count": 23,
   "metadata": {},
   "outputs": [
    {
     "name": "stdout",
     "output_type": "stream",
     "text": [
      "[[0 1]\n",
      " [2 3]\n",
      " [4 5]]\n",
      "[[0 1]\n",
      " [2 3]\n",
      " [4 5]]\n"
     ]
    }
   ],
   "source": [
    "a = np.arange(6).reshape(-1, 2)\n",
    "print(a)\n",
    "\n",
    "# The -1 argument tells the routine to compute \n",
    "# the number of rows given the size of the array \n",
    "# and the number of columns.\n",
    "a = np.arange(6).reshape(3, 2)\n",
    "print(a)\n"
   ]
  },
  {
   "cell_type": "markdown",
   "metadata": {},
   "source": [
    "### 4.4.2 Slicing"
   ]
  },
  {
   "cell_type": "code",
   "execution_count": 28,
   "metadata": {},
   "outputs": [
    {
     "name": "stdout",
     "output_type": "stream",
     "text": [
      "a = \n",
      "[[ 0  1  2  3  4  5  6  7  8  9]\n",
      " [10 11 12 13 14 15 16 17 18 19]]\n",
      "a[0, 2:7:1] = [2 3 4 5 6], a[0, 2:7:1].shape = (5,), 1-D array.\n",
      "a[0, 2:7:2] = [2 4 6], a[0, 2:7:2].shape = (3,), 1-D array.\n",
      "a[:, 2:7:1] = [[ 2  3  4  5  6]\n",
      " [12 13 14 15 16]], a[:, 2:7:1].shape = (2, 5), 2-D array.\n",
      "a[:,:] = [[ 0  1  2  3  4  5  6  7  8  9]\n",
      " [10 11 12 13 14 15 16 17 18 19]], a[:,:].shape = (2, 10), 2-D array.\n",
      "a[1,:] = [10 11 12 13 14 15 16 17 18 19], a[1,:].shape = (10,), 1-D array.\n",
      "a[1] = [10 11 12 13 14 15 16 17 18 19], a[1].shape = (10,), 1-D array.\n"
     ]
    }
   ],
   "source": [
    "a = np.arange(20).reshape(-1, 10)\n",
    "print(f\"a = \\n{a}\")\n",
    "\n",
    "print(f\"a[0, 2:7:1] = {a[0, 2:7:1]}, a[0, 2:7:1].shape = {a[0, 2:7:1].shape}, 1-D array.\")\n",
    "\n",
    "print(f\"a[0, 2:7:2] = {a[0, 2:7:2]}, a[0, 2:7:2].shape = {a[0, 2:7:2].shape}, 1-D array.\")\n",
    "\n",
    "\n",
    "print(f\"a[:, 2:7:1] = {a[:, 2:7:1]}, a[:, 2:7:1].shape = {a[:, 2:7:1].shape}, 2-D array.\")\n",
    "\n",
    "print(f\"a[:,:] = {a[:,:]}, a[:,:].shape = {a[:,:].shape}, 2-D array.\")\n",
    "\n",
    "print(f\"a[1,:] = {a[1,:]}, a[1,:].shape = {a[1,:].shape}, 1-D array.\")\n",
    "\n",
    "print(f\"a[1] = {a[1]}, a[1].shape = {a[1].shape}, 1-D array.\")\n"
   ]
  }
 ],
 "metadata": {
  "kernelspec": {
   "display_name": "Python 3",
   "language": "python",
   "name": "python3"
  },
  "language_info": {
   "codemirror_mode": {
    "name": "ipython",
    "version": 3
   },
   "file_extension": ".py",
   "mimetype": "text/x-python",
   "name": "python",
   "nbconvert_exporter": "python",
   "pygments_lexer": "ipython3",
   "version": "3.10.12"
  },
  "orig_nbformat": 4
 },
 "nbformat": 4,
 "nbformat_minor": 2
}
